{
 "cells": [
  {
   "cell_type": "code",
   "execution_count": 1,
   "metadata": {},
   "outputs": [],
   "source": [
    "import matplotlib.pyplot as plt\n",
    "plt.pie([7,4,], explode=[0.02, 0.02], wedgeprops=dict(width=.55), labels=[\"Sent\", \"Unsent\"], autopct='%1.1f%%');\n",
    "plt.savefig(\"Mail Status.jpeg\")"
   ]
  },
  {
   "cell_type": "code",
   "execution_count": null,
   "metadata": {},
   "outputs": [],
   "source": [
    "# MAIL STATUS ANALYTICS\n",
    "from main import *\n",
    "\n",
    "mail = Mail(\"AutoBatch No-Reply\", \"einsteinmunachiso@gmail.com\", password, \"AutoBatch Test\", \"google\")\n",
    "mail_define = mail.define_mail()\n",
    "print(mail_define)\n",
    "\n",
    "emails, names = [\"kinfe9870@gmail.com\", \"abrahamogudu@gmail.com\", \"mosope48@gmail.com\", \"einsteinmunachiso@gmail.com\", \"ein\", \"dat\"], [\"Kinfe\", \"Abraham\", \"Mosope\", \"einstein\", \"ein\", \"dat\"]\n",
    "analytics = input(\"View send analytics?\")\n",
    "\n",
    "sent = 0\n",
    "not_sent = 0\n",
    "\n",
    "for email, name in zip(emails, names):\n",
    "    content = f\"\"\"\n",
    "    Hey {name},\n",
    "    \\n\\nI trust this email finds you well. As you are aware, the payroll window is here, and we are thrilled that you get to use our latest version - Bento V3. We are confident that Bento V3 represents our best work yet and we are excited for you to experience its awesomeness.\n",
    "    \\n\\nAs with all major deployments, there are bound to be some hitches - and there will always be risk of data corruption during a migration but we are working to fix any issues and are confident that the product is stable and will perform optimally during this payroll window.\n",
    "    \\n\\nWe moved from a 3 bedroom duplex into a waterfront mansion. A few things like our bar stools have not been delivered and we don’t know the best restaurants in the new neighborhood just yet. But we are so proud of this build and are confident that you will love it.\n",
    "    \\n\\nDig in and experience it. We’ll love to hear your thoughts. And we do ask for some patience. This was a big build - a few things were removed, some added. Happy to discuss our reasoning.\n",
    "    \\n\\nThe best products of course are an ongoing conversation between the users and builders.\n",
    "    \\n\\nBest regards,\n",
    "    \\nEinstein from AutoBatch Team.\n",
    "\n",
    "    \"\"\"\n",
    "\n",
    "    send_mail = mail.send_mail(email, content)\n",
    "    if send_mail == \"mail sent: True\":\n",
    "        sent += 1\n",
    "    else:\n",
    "        not_sent += 1"
   ]
  }
 ],
 "metadata": {
  "kernelspec": {
   "display_name": "Python 3",
   "language": "python",
   "name": "python3"
  },
  "language_info": {
   "codemirror_mode": {
    "name": "ipython",
    "version": 3
   },
   "file_extension": ".py",
   "mimetype": "text/x-python",
   "name": "python",
   "nbconvert_exporter": "python",
   "pygments_lexer": "ipython3",
   "version": "3.10.3"
  },
  "orig_nbformat": 4
 },
 "nbformat": 4,
 "nbformat_minor": 2
}
