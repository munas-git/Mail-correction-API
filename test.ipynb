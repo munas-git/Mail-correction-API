{
 "cells": [
  {
   "cell_type": "markdown",
   "metadata": {},
   "source": [
    "## Cool terms.\n",
    "- Mail Merge :- Personalized bulk mails."
   ]
  },
  {
   "cell_type": "code",
   "execution_count": 2,
   "metadata": {},
   "outputs": [
    {
     "data": {
      "image/png": "[encoded data removed]",
      "text/plain": [
       "<Figure size 432x288 with 1 Axes>"
      ]
     },
     "metadata": {},
     "output_type": "display_data"
    }
   ],
   "source": [
    "import matplotlib.pyplot as plt\n",
    "plt.pie([7,4,], explode=[0.02, 0.02], wedgeprops=dict(width=.55), labels=[\"Sent\", \"Unsent\"], autopct='%1.1f%%');\n",
    "plt.savefig(\"Mail Status.jpeg\")"
   ]
  },
  {
   "cell_type": "code",
   "execution_count": 36,
   "metadata": {},
   "outputs": [],
   "source": [
    "# MAIL STATUS ANALYTICS\n",
    "from main import *\n",
    "\n",
    "wrong_mail = Mail(\"AutoBatch No-Reply\", \"einsteinmunachiso@gmail.com\", password, \"AutoBatch Test\", \"google\")\n",
    "mail_define = wrong_mail.define_mail()\n",
    "print(mail_define)\n",
    "\n",
    "emails, names = [\"kinfe9870@gmail.com\", \"abrahamogudu@gmail.com\", \"mosope48@gmail.com\", \"einsteinmunachiso@gmail.com\", \"ein\", \"dat\"], [\"Kinfe\", \"Abraham\", \"Mosope\", \"einstein\", \"ein\", \"dat\"]\n",
    "analytics = input(\"View send analytics?\")\n",
    "\n",
    "sent = 0\n",
    "not_sent = 0\n",
    "\n",
    "for email, name in zip(emails, names):\n",
    "    content = f\"\"\"\n",
    "    Hey {name},\n",
    "    \\n\\nI trust this email finds you well. As you are aware, the payroll window is here, and we are thrilled that you get to use our latest version - Bento V3. We are confident that Bento V3 represents our best work yet and we are excited for you to experience its awesomeness.\n",
    "    \\n\\nAs with all major deployments, there are bound to be some hitches - and there will always be risk of data corruption during a migration but we are working to fix any issues and are confident that the product is stable and will perform optimally during this payroll window.\n",
    "    \\n\\nWe moved from a 3 bedroom duplex into a waterfront mansion. A few things like our bar stools have not been delivered and we don’t know the best restaurants in the new neighborhood just yet. But we are so proud of this build and are confident that you will love it.\n",
    "    \\n\\nDig in and experience it. We’ll love to hear your thoughts. And we do ask for some patience. This was a big build - a few things were removed, some added. Happy to discuss our reasoning.\n",
    "    \\n\\nThe best products of course are an ongoing conversation between the users and builders.\n",
    "    \\n\\nBest regards,\n",
    "    \\nEinstein from AutoBatch Team.\n",
    "\n",
    "    \"\"\"\n",
    "\n",
    "    send_mail = wrong_mail.send_same_mail(email, content)\n",
    "    if send_mail == \"mail sent: True\":\n",
    "        sent += 1\n",
    "    else:\n",
    "        not_sent += 1"
   ]
  },
  {
   "cell_type": "code",
   "execution_count": 44,
   "metadata": {},
   "outputs": [
    {
     "name": "stdout",
     "output_type": "stream",
     "text": [
      "I like bananas.com\n"
     ]
    }
   ],
   "source": [
    "txt = \"I like bananas.com\"\n",
    "\n",
    "x = txt.replace(\".col\", \".com\")\n",
    "\n",
    "print(x)"
   ]
  },
  {
   "cell_type": "code",
   "execution_count": 10,
   "metadata": {},
   "outputs": [
    {
     "name": "stdout",
     "output_type": "stream",
     "text": [
      "The correct email should be: spinalchord@outlook.co\n"
     ]
    }
   ],
   "source": [
    "# Basic Mail correction\n",
    "from difflib import SequenceMatcher\n",
    "\n",
    "# List of email top-level-domains\n",
    "tlds = ['com', 'net', 'org', 'io', 'co', 'uk', 'ca', 'dev', 'me']\n",
    "mail_servers = [\n",
    "    'gmail', 'outlook', 'icloud', 'yahoo', 'hotmail', 'aim', 'medium',\n",
    "    'titan', 'protonmail', 'pm', 'zoho', 'yandex', 'gmx','hubspot',\n",
    "    'mail', 'tutanota', 'geeksforgeeks', 'medium', '']\n",
    "\n",
    "max_tld_score, max_server_score, correct_tld, correct_server = 0, 0, '', '' # Initialized score for TLDs and declared variable for likely correct TLD.\n",
    "\n",
    "wrong_mail = input(\"Enter email address: \")\n",
    "for tld in tlds:\n",
    "    tld_score = SequenceMatcher(a=wrong_mail.split('.')[-1], b=tld).quick_ratio() # Checking scores for input TLDs and list of correct TLDs\n",
    "    if tld_score > max_tld_score:\n",
    "        max_tld_score, correct_tld = tld_score, tld # Updating scores and correct TLD\n",
    "\n",
    "for mail_server in mail_servers:\n",
    "    server_score = SequenceMatcher(a=wrong_mail.split('@')[1], b=mail_server).quick_ratio() # Checking scores for input server and list of correct servers\n",
    "    if server_score > max_server_score:\n",
    "        max_server_score, correct_server = server_score, mail_server\n",
    "\n",
    "\n",
    "correct_mail = wrong_mail.replace(wrong_mail.split('@')[1], correct_server)+\".\"+correct_tld\n",
    "# correct_mail = mail.replace(mail.split('.')[-1], correct_tld)\n",
    "print('The correct email should be:', correct_mail)"
   ]
  },
  {
   "cell_type": "code",
   "execution_count": 36,
   "metadata": {},
   "outputs": [],
   "source": [
    "import string\n",
    "punctuations = string.punctuation"
   ]
  },
  {
   "cell_type": "code",
   "execution_count": 39,
   "metadata": {},
   "outputs": [
    {
     "name": "stdout",
     "output_type": "stream",
     "text": [
      "!\"#$%&'()*+,-/:;<=>?[\\]^_`{|}~\n"
     ]
    }
   ],
   "source": [
    "import string\n",
    "\n",
    "# wrong_mail = input(\"Enter wrong mail: \")\n",
    "punctuations = string.punctuation.replace(\".\", \"\").replace('@', '')\n",
    "\n",
    "# for punctuation in punctuations:\n",
    "#             # print(punctuation)\n",
    "#             right_mail = wrong_mail.split(\"@\")[1]\n",
    "#             if punctuation in right_mail.split():\n",
    "#                     print(right_mail.split())\n",
    "#                     right_mail.replace(punctuation, \".\")\n",
    "#             # right_mail = right_mail.replace(punctuation, '.')\n",
    "# print(right_mail)\n",
    "# print(wrong_mail.split(\"@\")[1].replace(punctuation, '.'))\n",
    "print(punctuations)"
   ]
  },
  {
   "cell_type": "code",
   "execution_count": 38,
   "metadata": {},
   "outputs": [
    {
     "name": "stdout",
     "output_type": "stream",
     "text": [
      "otlooks...#.!ng&co...\n",
      "spina#l.chord@otlooks.ng.co\n"
     ]
    }
   ],
   "source": [
    "# THIS WORKS RIGHT.\n",
    "\n",
    "# wemail_1 = 'spinalchord@outlook#ng&co.'\n",
    "wemail = 'spina#l.chord@otlooks...#.!ng&co...'\n",
    "new_mail_list = []\n",
    "email_post_at_symbol = wemail.split('@')[1]\n",
    "print(email_post_at_symbol)\n",
    "for punctuation in punctuations:\n",
    "    if punctuation in email_post_at_symbol:\n",
    "        email_post_at_symbol = email_post_at_symbol.replace(punctuation, \".\").strip('.')\n",
    "for mail_part in email_post_at_symbol.split('.'):\n",
    "    if mail_part != '':\n",
    "        new_mail_list.append(mail_part)\n",
    "mail = \"@\"+\".\".join(new_mail_list)\n",
    "correct_email = wemail.split('@')[0]+mail\n",
    "\n",
    "# print(wemail_post_at)\n",
    "# print(mail)\n",
    "print(correct_email)"
   ]
  },
  {
   "cell_type": "code",
   "execution_count": 49,
   "metadata": {},
   "outputs": [
    {
     "name": "stdout",
     "output_type": "stream",
     "text": [
      "['gmail', 'com']\n"
     ]
    }
   ],
   "source": [
    "# wemail = \"spina#l.chord@otlooks...#.!ng&co...\"\n",
    "wemail = \"einsteinmunachiso@gmail.com\"\n",
    "\n",
    "email_post_at_symbol = wemail.split('@')[1]\n",
    "# print(email_post_at_symbol)\n",
    "for punctuation in punctuations:\n",
    "    if punctuation in email_post_at_symbol:\n",
    "        email_post_at_symbol = email_post_at_symbol.replace(punctuation, \".\").strip('.')\n",
    "# print(email_post_at_symbol.split(\".\"))\n",
    "clean = [output for output in email_post_at_symbol.split(\".\") if output != '']\n",
    "\n",
    "if len(clean) == 2:\n",
    "    print(clean)\n",
    "if len(clean) == 3:\n",
    "    print(clean)    "
   ]
  },
  {
   "cell_type": "code",
   "execution_count": 14,
   "metadata": {},
   "outputs": [
    {
     "name": "stdout",
     "output_type": "stream",
     "text": [
      "spinalchord@outlook.ng.co\n"
     ]
    }
   ],
   "source": [
    "wemail = 'spinalchord@outlook..ng&co.'\n",
    "new_mail_list = [] \n",
    "for mail_part in wemail.split('.'):\n",
    "    if mail_part != '':\n",
    "        new_mail_list.append(mail_part)\n",
    "mail = \".\".join(new_mail_list)\n",
    "\n",
    "for punctuation in punctuations:\n",
    "    if punctuation in mail:\n",
    "        mail = mail.replace(punctuation, \".\").strip('.')\n",
    "correct_email = mail\n",
    "# mail = \".\".join(wemail.split('.'))\n",
    "print(correct_email)\n",
    "# print(new_mail_list)"
   ]
  },
  {
   "cell_type": "code",
   "execution_count": 4,
   "metadata": {},
   "outputs": [
    {
     "name": "stdout",
     "output_type": "stream",
     "text": [
      "['microsoft', 'com']\n"
     ]
    }
   ],
   "source": [
    "special_mail = 'dave.mark@microsoft.com'\n",
    "\n",
    "first_split = special_mail.split('@')\n",
    "second_split = first_split[-1].split('.')\n",
    "print(second_split)"
   ]
  },
  {
   "cell_type": "code",
   "execution_count": 21,
   "metadata": {},
   "outputs": [
    {
     "name": "stdout",
     "output_type": "stream",
     "text": [
      "Hey Kinfe, - 2nd test. NO BLOCK ABEG\n",
      "    \n",
      "\n",
      "I trust this email finds you well. As you are aware, the payroll window is here, and we are thrilled that you get to use our latest version - Bento V3. We are confident that Bento V3 represents our best work yet and we are excited for you to experience its awesomeness.\n",
      "    \n",
      "\n",
      "As with all major deployments, there are bound to be some hitches - and there will always be risk of data corruption during a migration but we are working to fix any issues and are confident that the product is stable and will perform optimally during this payroll window.\n",
      "    \n",
      "\n",
      "We moved from a 3 bedroom duplex into a waterfront mansion. A few things like our bar stools have not been delivered and we don’t know the best restaurants in the new neighborhood just yet. But we are so proud of this build and are confident that you will love it.\n",
      "    \n",
      "\n",
      "Dig in and experience it. We’ll love to hear your thoughts. And we do ask for some patience. This was a big build - a few things were removed, some added. Happy to discuss our reasoning.\n",
      "    \n",
      "\n",
      "The best products of course are an ongoing conversation between the users and builders.\n",
      "    \n",
      "\n",
      "Best regards,\n",
      "    \n",
      "Einstein from AutoBatch Team.\n",
      "    \n",
      "Hey Abraham, - 2nd test. NO BLOCK ABEG\n",
      "    \n",
      "\n",
      "I trust this email finds you well. As you are aware, the payroll window is here, and we are thrilled that you get to use our latest version - Bento V3. We are confident that Bento V3 represents our best work yet and we are excited for you to experience its awesomeness.\n",
      "    \n",
      "\n",
      "As with all major deployments, there are bound to be some hitches - and there will always be risk of data corruption during a migration but we are working to fix any issues and are confident that the product is stable and will perform optimally during this payroll window.\n",
      "    \n",
      "\n",
      "We moved from a 3 bedroom duplex into a waterfront mansion. A few things like our bar stools have not been delivered and we don’t know the best restaurants in the new neighborhood just yet. But we are so proud of this build and are confident that you will love it.\n",
      "    \n",
      "\n",
      "Dig in and experience it. We’ll love to hear your thoughts. And we do ask for some patience. This was a big build - a few things were removed, some added. Happy to discuss our reasoning.\n",
      "    \n",
      "\n",
      "The best products of course are an ongoing conversation between the users and builders.\n",
      "    \n",
      "\n",
      "Best regards,\n",
      "    \n",
      "Einstein from AutoBatch Team.\n",
      "    \n",
      "Hey Mosope, - 2nd test. NO BLOCK ABEG\n",
      "    \n",
      "\n",
      "I trust this email finds you well. As you are aware, the payroll window is here, and we are thrilled that you get to use our latest version - Bento V3. We are confident that Bento V3 represents our best work yet and we are excited for you to experience its awesomeness.\n",
      "    \n",
      "\n",
      "As with all major deployments, there are bound to be some hitches - and there will always be risk of data corruption during a migration but we are working to fix any issues and are confident that the product is stable and will perform optimally during this payroll window.\n",
      "    \n",
      "\n",
      "We moved from a 3 bedroom duplex into a waterfront mansion. A few things like our bar stools have not been delivered and we don’t know the best restaurants in the new neighborhood just yet. But we are so proud of this build and are confident that you will love it.\n",
      "    \n",
      "\n",
      "Dig in and experience it. We’ll love to hear your thoughts. And we do ask for some patience. This was a big build - a few things were removed, some added. Happy to discuss our reasoning.\n",
      "    \n",
      "\n",
      "The best products of course are an ongoing conversation between the users and builders.\n",
      "    \n",
      "\n",
      "Best regards,\n",
      "    \n",
      "Einstein from AutoBatch Team.\n",
      "    \n",
      "Hey einstein, - 2nd test. NO BLOCK ABEG\n",
      "    \n",
      "\n",
      "I trust this email finds you well. As you are aware, the payroll window is here, and we are thrilled that you get to use our latest version - Bento V3. We are confident that Bento V3 represents our best work yet and we are excited for you to experience its awesomeness.\n",
      "    \n",
      "\n",
      "As with all major deployments, there are bound to be some hitches - and there will always be risk of data corruption during a migration but we are working to fix any issues and are confident that the product is stable and will perform optimally during this payroll window.\n",
      "    \n",
      "\n",
      "We moved from a 3 bedroom duplex into a waterfront mansion. A few things like our bar stools have not been delivered and we don’t know the best restaurants in the new neighborhood just yet. But we are so proud of this build and are confident that you will love it.\n",
      "    \n",
      "\n",
      "Dig in and experience it. We’ll love to hear your thoughts. And we do ask for some patience. This was a big build - a few things were removed, some added. Happy to discuss our reasoning.\n",
      "    \n",
      "\n",
      "The best products of course are an ongoing conversation between the users and builders.\n",
      "    \n",
      "\n",
      "Best regards,\n",
      "    \n",
      "Einstein from AutoBatch Team.\n",
      "    \n",
      "Hey ein, - 2nd test. NO BLOCK ABEG\n",
      "    \n",
      "\n",
      "I trust this email finds you well. As you are aware, the payroll window is here, and we are thrilled that you get to use our latest version - Bento V3. We are confident that Bento V3 represents our best work yet and we are excited for you to experience its awesomeness.\n",
      "    \n",
      "\n",
      "As with all major deployments, there are bound to be some hitches - and there will always be risk of data corruption during a migration but we are working to fix any issues and are confident that the product is stable and will perform optimally during this payroll window.\n",
      "    \n",
      "\n",
      "We moved from a 3 bedroom duplex into a waterfront mansion. A few things like our bar stools have not been delivered and we don’t know the best restaurants in the new neighborhood just yet. But we are so proud of this build and are confident that you will love it.\n",
      "    \n",
      "\n",
      "Dig in and experience it. We’ll love to hear your thoughts. And we do ask for some patience. This was a big build - a few things were removed, some added. Happy to discuss our reasoning.\n",
      "    \n",
      "\n",
      "The best products of course are an ongoing conversation between the users and builders.\n",
      "    \n",
      "\n",
      "Best regards,\n",
      "    \n",
      "Einstein from AutoBatch Team.\n",
      "    \n",
      "Hey dat, - 2nd test. NO BLOCK ABEG\n",
      "    \n",
      "\n",
      "I trust this email finds you well. As you are aware, the payroll window is here, and we are thrilled that you get to use our latest version - Bento V3. We are confident that Bento V3 represents our best work yet and we are excited for you to experience its awesomeness.\n",
      "    \n",
      "\n",
      "As with all major deployments, there are bound to be some hitches - and there will always be risk of data corruption during a migration but we are working to fix any issues and are confident that the product is stable and will perform optimally during this payroll window.\n",
      "    \n",
      "\n",
      "We moved from a 3 bedroom duplex into a waterfront mansion. A few things like our bar stools have not been delivered and we don’t know the best restaurants in the new neighborhood just yet. But we are so proud of this build and are confident that you will love it.\n",
      "    \n",
      "\n",
      "Dig in and experience it. We’ll love to hear your thoughts. And we do ask for some patience. This was a big build - a few things were removed, some added. Happy to discuss our reasoning.\n",
      "    \n",
      "\n",
      "The best products of course are an ongoing conversation between the users and builders.\n",
      "    \n",
      "\n",
      "Best regards,\n",
      "    \n",
      "Einstein from AutoBatch Team.\n",
      "    \n"
     ]
    }
   ],
   "source": [
    "# HOW TO CUSTOMIZE EVERY EMAIL TO HAVE A DIFFERENT NAME.\n",
    "\n",
    "\n",
    "fnames = [\"Kinfe\", \"Abraham\", \"Mosope\", \"einstein\", \"ein\", \"dat\"]\n",
    "\n",
    "for fname in fnames:\n",
    "    content = f\"\"\"Hey _fname_, - 2nd test. NO BLOCK ABEG\n",
    "    \\n\\nI trust this email finds you well. As you are aware, the payroll window is here, and we are thrilled that you get to use our latest version - Bento V3. We are confident that Bento V3 represents our best work yet and we are excited for you to experience its awesomeness.\n",
    "    \\n\\nAs with all major deployments, there are bound to be some hitches - and there will always be risk of data corruption during a migration but we are working to fix any issues and are confident that the product is stable and will perform optimally during this payroll window.\n",
    "    \\n\\nWe moved from a 3 bedroom duplex into a waterfront mansion. A few things like our bar stools have not been delivered and we don’t know the best restaurants in the new neighborhood just yet. But we are so proud of this build and are confident that you will love it.\n",
    "    \\n\\nDig in and experience it. We’ll love to hear your thoughts. And we do ask for some patience. This was a big build - a few things were removed, some added. Happy to discuss our reasoning.\n",
    "    \\n\\nThe best products of course are an ongoing conversation between the users and builders.\n",
    "    \\n\\nBest regards,\n",
    "    \\nEinstein from AutoBatch Team.\n",
    "    \"\"\"\n",
    "    print(content.replace(\"_fname_\", fname))"
   ]
  },
  {
   "cell_type": "code",
   "execution_count": 150,
   "metadata": {},
   "outputs": [],
   "source": [
    "import pandas as pd\n",
    "\n",
    "data = 'Mailing list.csv'\n",
    "data = pd.read_csv(data)\n",
    "\n",
    "all_details = []\n",
    "for details in data.values:\n",
    "    mail = details[0]\n",
    "    first_name = details[1]\n",
    "    last_name = details[2]\n",
    "\n",
    "    all_details.append((mail, first_name, last_name))"
   ]
  },
  {
   "cell_type": "code",
   "execution_count": 154,
   "metadata": {},
   "outputs": [
    {
     "name": "stdout",
     "output_type": "stream",
     "text": [
      "einsteinmunachiso@gmaic.com\n",
      "Einstein\n",
      "abrahamogudu@gmail.com\n",
      "Abraham\n",
      "mosope48@gmail.com\n",
      "Mosope\n",
      "kinfe9870@gmail.com\n",
      "Kinfe\n"
     ]
    }
   ],
   "source": [
    "for det in all_details:\n",
    "    print(det[0])\n",
    "    print(det[1])"
   ]
  },
  {
   "cell_type": "code",
   "execution_count": 176,
   "metadata": {},
   "outputs": [
    {
     "name": "stdout",
     "output_type": "stream",
     "text": [
      "einstein.munachiso@gmail.com\n"
     ]
    }
   ],
   "source": [
    "wrong_m = 'einstein.munachiso@gmail.cm'\n",
    "after_at_symbol = wrong_m.split('@')[1]\n",
    "server = after_at_symbol.split('.')[0]\n",
    "must_be_com = [\"gmail\", \"outlook\", \"yahoo\", \"icloud\"]\n",
    "if server in must_be_com:\n",
    "    correct_mail = wrong_m.split('@')[0]+'@'+server+'.com'"
   ]
  },
  {
   "cell_type": "code",
   "execution_count": 166,
   "metadata": {},
   "outputs": [
    {
     "name": "stdout",
     "output_type": "stream",
     "text": [
      "{'Age': 20, 'name': 'Einstein'}\n",
      "{}\n"
     ]
    }
   ],
   "source": [
    "test = {\n",
    "    \"Age\": 20,\n",
    "    \"name\": \"Einstein\"\n",
    "}\n",
    "print(test)\n",
    "test.clear()\n",
    "print(test)"
   ]
  },
  {
   "attachments": {},
   "cell_type": "markdown",
   "metadata": {},
   "source": [
    "### LINK CLICK TRACKING & MAIL OPEN TRACKING.\n",
    "\n",
    "TRACKING_PACKAGE_URL = 'https://github.com/powergo/pytracking'  \n",
    "ARTICLE_ON_TRACKING = 'https://pythoncircle.com/post/626/how-to-track-email-opens-sent-from-django-app/'  \n",
    "YOUTUBE_VIDEO_LINK = 'https://www.youtube.com/watch?v=XLNYsUd940k'"
   ]
  },
  {
   "attachments": {},
   "cell_type": "markdown",
   "metadata": {},
   "source": [
    "### FOR MAIL IN BROWSER FEATURE.\n",
    "\n",
    "TINY_LINK = 'https://www.tiny.cloud/pricing/'  \n",
    "YOUTUBE_TUTORIAL = 'https://www.youtube.com/watch?v=mZ_6KKGa89Y'\n"
   ]
  },
  {
   "attachments": {},
   "cell_type": "markdown",
   "metadata": {},
   "source": [
    "# Potential Templates\n",
    "\n",
    "Get Free Templates from: https://www.creative-tim.com/blog/web-design/free-dashboard-templates/\n",
    "\n",
    "### Download links\n",
    "- https://www.creative-tim.com/product/soft-ui-dashboard\n",
    "\n",
    "### Downloaded Template link\n",
    "- https://www.creative-tim.com/product/vue-paper-dashboard?tracking=first-time#\n",
    "\n",
    "### Potential Templates\n",
    "- https://www.free-css.com/free-css-templates/page286/coto\n",
    "- https://www.free-css.com/free-css-templates/page289/seotech"
   ]
  },
  {
   "cell_type": "code",
   "execution_count": 105,
   "metadata": {},
   "outputs": [
    {
     "name": "stdout",
     "output_type": "stream",
     "text": [
      "Kinfe\n",
      "Abraham\n",
      "Mosope\n",
      "einstein\n",
      "ein\n",
      "dat\n",
      "6.095428705215454\n"
     ]
    }
   ],
   "source": [
    "import time\n",
    "start_time = time.time()\n",
    "import threading\n",
    "\n",
    "fnames = [\"Kinfe\", \"Abraham\", \"Mosope\", \"einstein\", \"ein\", \"dat\"]\n",
    "\n",
    "def pr(name):\n",
    "    print(name)\n",
    "\n",
    "for n in fnames:\n",
    "    thr = threading.Thread(target=pr, args=(n,))\n",
    "    thr.start()\n",
    "    time.sleep(1)\n",
    "\n",
    "print(time.time() - start_time)"
   ]
  },
  {
   "cell_type": "code",
   "execution_count": 106,
   "metadata": {},
   "outputs": [
    {
     "name": "stdout",
     "output_type": "stream",
     "text": [
      "Kinfe\n",
      "Abraham\n",
      "Mosope\n",
      "einstein\n",
      "ein\n",
      "dat\n",
      "6.069328546524048\n"
     ]
    }
   ],
   "source": [
    "start_time = time.time()\n",
    "\n",
    "fnames = [\"Kinfe\", \"Abraham\", \"Mosope\", \"einstein\", \"ein\", \"dat\"]\n",
    "\n",
    "def pr(name):\n",
    "    print(name)\n",
    "\n",
    "for n in fnames:\n",
    "    pr(n)\n",
    "    time.sleep(1)\n",
    "\n",
    "print(time.time() - start_time)"
   ]
  },
  {
   "cell_type": "code",
   "execution_count": 119,
   "metadata": {},
   "outputs": [
    {
     "name": "stdout",
     "output_type": "stream",
     "text": [
      "1\n"
     ]
    }
   ],
   "source": [
    "from threading import Thread\n",
    "\n",
    "t = Thread(target=print, args=[1])\n",
    "t.run()"
   ]
  },
  {
   "cell_type": "code",
   "execution_count": 115,
   "metadata": {},
   "outputs": [],
   "source": [
    "from multiprocessing import Process\n",
    "\n",
    "def f(name):\n",
    "    print('hello', name)\n",
    "\n",
    "if __name__ == '__main__':\n",
    "    p = Process(target=f, args=('bob',))\n",
    "    p.start()\n",
    "    p.join()"
   ]
  },
  {
   "attachments": {},
   "cell_type": "markdown",
   "metadata": {},
   "source": [
    "## Functionalities of the system\n",
    "\n",
    "- Email correction\n",
    "- Email validation\n",
    "- Email correction with validation\n",
    "\n",
    "## API returns\n",
    "- Original email: STR\n",
    "- Mail adjusted status: BOOL\n",
    "- adjusted mail: STR\n",
    "- Mail active: BOOL"
   ]
  },
  {
   "cell_type": "code",
   "execution_count": 4,
   "metadata": {},
   "outputs": [
    {
     "name": "stderr",
     "output_type": "stream",
     "text": [
      "connect: to ('smtp.gmail.com', 465) None\n"
     ]
    },
    {
     "name": "stdout",
     "output_type": "stream",
     "text": [
      "Failed to connect to the SMTP server: Connection unexpectedly closed\n"
     ]
    }
   ],
   "source": [
    "import smtplib\n",
    "\n",
    "def verify_email(email):\n",
    "    try:\n",
    "        server = smtplib.SMTP()\n",
    "        server.set_debuglevel(True)\n",
    "        server.connect('smtp.gmail.com', 465)  # Update with your SMTP server and port\n",
    "        server.starttls()  # Enable encryption\n",
    "        server.login('')  # Update with your email credentials\n",
    "\n",
    "        try:\n",
    "            response = server.verify(email)\n",
    "            if response == 250:\n",
    "                print(\"Email address exists.\")\n",
    "            else:\n",
    "                print(\"Email address does not exist.\")\n",
    "        except smtplib.SMTPException:\n",
    "            print(\"Email verification failed.\")\n",
    "    except smtplib.SMTPException as e:\n",
    "        print(\"Failed to connect to the SMTP server:\", e)\n",
    "\n",
    "\n",
    "# Usage\n",
    "email = 'recipient@example.com'\n",
    "verify_email(email)"
   ]
  },
  {
   "cell_type": "code",
   "execution_count": 3,
   "metadata": {},
   "outputs": [
    {
     "name": "stdout",
     "output_type": "stream",
     "text": [
      "Invalid email address\n"
     ]
    }
   ],
   "source": [
    "import re  \n",
    "  \n",
    "def validate_email(email):  \n",
    "    if re.match(r\"[^@]+@[^@]+\\.[^@]+\", email):  \n",
    "        return True  \n",
    "    return False  \n",
    "  \n",
    "email = \"example@domain.com\"  \n",
    "if validate_email(email):  \n",
    "    print(\"Valid email address\")  \n",
    "else:  \n",
    "    print(\"Invalid email address\")  "
   ]
  },
  {
   "cell_type": "code",
   "execution_count": 7,
   "metadata": {},
   "outputs": [
    {
     "ename": "NameError",
     "evalue": "name 'sender' is not defined",
     "output_type": "error",
     "traceback": [
      "\u001b[1;31m---------------------------------------------------------------------------\u001b[0m",
      "\u001b[1;31mNameError\u001b[0m                                 Traceback (most recent call last)",
      "\u001b[1;32mc:\\Users\\samsung\\Documents\\Projects\\Personal Projects\\AutoBatch Mail\\test.ipynb Cell 25\u001b[0m in \u001b[0;36m<cell line: 1>\u001b[1;34m()\u001b[0m\n\u001b[1;32m----> <a href='vscode-notebook-cell:/c%3A/Users/samsung/Documents/Projects/Personal%20Projects/AutoBatch%20Mail/test.ipynb#X36sZmlsZQ%3D%3D?line=0'>1</a>\u001b[0m \u001b[39mprint\u001b[39m(sender)\n",
      "\u001b[1;31mNameError\u001b[0m: name 'sender' is not defined"
     ]
    }
   ],
   "source": []
  },
  {
   "cell_type": "code",
   "execution_count": 8,
   "metadata": {},
   "outputs": [
    {
     "name": "stdout",
     "output_type": "stream",
     "text": [
      "Error occurred during email verification: Connection unexpectedly closed\n"
     ]
    }
   ],
   "source": [
    "import smtplib\n",
    "\n",
    "def verify_email_address(email_address):\n",
    "    try:\n",
    "        server = smtplib.SMTP(\"smtp.gmail.com\", 465)  # Update with your SMTP server and port\n",
    "        server.starttls()  # Enable encryption\n",
    "        server.login(\"\")  # Update with your email credentials\n",
    "\n",
    "        response = server.verify(email_address)\n",
    "        print(\"Server response:\", response)\n",
    "\n",
    "        server.quit()\n",
    "    except smtplib.SMTPException as e:\n",
    "        print(\"Error occurred during email verification:\", e)\n",
    "\n",
    "# Usage\n",
    "email = \"recipient@example.com\"\n",
    "verify_email_address(email)"
   ]
  }
 ],
 "metadata": {
  "kernelspec": {
   "display_name": "Python 3",
   "language": "python",
   "name": "python3"
  },
  "language_info": {
   "codemirror_mode": {
    "name": "ipython",
    "version": 3
   },
   "file_extension": ".py",
   "mimetype": "text/x-python",
   "name": "python",
   "nbconvert_exporter": "python",
   "pygments_lexer": "ipython3",
   "version": "3.10.3"
  },
  "orig_nbformat": 4,
  "vscode": {
   "interpreter": {
    "hash": "698943654ed90e0d601c73b15b591a66035d577c3c6badc918040a9e516c87b7"
   }
  }
 },
 "nbformat": 4,
 "nbformat_minor": 2
}
