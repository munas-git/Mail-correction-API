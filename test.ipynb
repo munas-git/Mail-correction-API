{
 "cells": [
  {
   "cell_type": "code",
   "execution_count": 2,
   "metadata": {},
   "outputs": [
    {
     "data": {
      "image/png": "[encoded data removed]",
      "text/plain": [
       "<Figure size 432x288 with 1 Axes>"
      ]
     },
     "metadata": {},
     "output_type": "display_data"
    }
   ],
   "source": [
    "import matplotlib.pyplot as plt\n",
    "plt.pie([7,4,], explode=[0.02, 0.02], wedgeprops=dict(width=.55), labels=[\"Sent\", \"Unsent\"], autopct='%1.1f%%');\n",
    "plt.savefig(\"Mail Status.jpeg\")"
   ]
  },
  {
   "cell_type": "code",
   "execution_count": 36,
   "metadata": {},
   "outputs": [],
   "source": [
    "# MAIL STATUS ANALYTICS\n",
    "from main import *\n",
    "\n",
    "wrong_mail = Mail(\"AutoBatch No-Reply\", \"einsteinmunachiso@gmail.com\", password, \"AutoBatch Test\", \"google\")\n",
    "mail_define = wrong_mail.define_mail()\n",
    "print(mail_define)\n",
    "\n",
    "emails, names = [\"kinfe9870@gmail.com\", \"abrahamogudu@gmail.com\", \"mosope48@gmail.com\", \"einsteinmunachiso@gmail.com\", \"ein\", \"dat\"], [\"Kinfe\", \"Abraham\", \"Mosope\", \"einstein\", \"ein\", \"dat\"]\n",
    "analytics = input(\"View send analytics?\")\n",
    "\n",
    "sent = 0\n",
    "not_sent = 0\n",
    "\n",
    "for email, name in zip(emails, names):\n",
    "    content = f\"\"\"\n",
    "    Hey {name},\n",
    "    \\n\\nI trust this email finds you well. As you are aware, the payroll window is here, and we are thrilled that you get to use our latest version - Bento V3. We are confident that Bento V3 represents our best work yet and we are excited for you to experience its awesomeness.\n",
    "    \\n\\nAs with all major deployments, there are bound to be some hitches - and there will always be risk of data corruption during a migration but we are working to fix any issues and are confident that the product is stable and will perform optimally during this payroll window.\n",
    "    \\n\\nWe moved from a 3 bedroom duplex into a waterfront mansion. A few things like our bar stools have not been delivered and we don’t know the best restaurants in the new neighborhood just yet. But we are so proud of this build and are confident that you will love it.\n",
    "    \\n\\nDig in and experience it. We’ll love to hear your thoughts. And we do ask for some patience. This was a big build - a few things were removed, some added. Happy to discuss our reasoning.\n",
    "    \\n\\nThe best products of course are an ongoing conversation between the users and builders.\n",
    "    \\n\\nBest regards,\n",
    "    \\nEinstein from AutoBatch Team.\n",
    "\n",
    "    \"\"\"\n",
    "\n",
    "    send_mail = wrong_mail.send_same_mail(email, content)\n",
    "    if send_mail == \"mail sent: True\":\n",
    "        sent += 1\n",
    "    else:\n",
    "        not_sent += 1"
   ]
  },
  {
   "cell_type": "code",
   "execution_count": 44,
   "metadata": {},
   "outputs": [
    {
     "name": "stdout",
     "output_type": "stream",
     "text": [
      "I like bananas.com\n"
     ]
    }
   ],
   "source": [
    "txt = \"I like bananas.com\"\n",
    "\n",
    "x = txt.replace(\".col\", \".com\")\n",
    "\n",
    "print(x)"
   ]
  },
  {
   "cell_type": "code",
   "execution_count": 10,
   "metadata": {},
   "outputs": [
    {
     "name": "stdout",
     "output_type": "stream",
     "text": [
      "The correct email should be: spinalchord@outlook.co\n"
     ]
    }
   ],
   "source": [
    "# Basic Mail correction\n",
    "from difflib import SequenceMatcher\n",
    "\n",
    "# List of email top-level-domains\n",
    "tlds = ['com', 'net', 'org', 'io', 'co', 'uk', 'ca', 'dev', 'me']\n",
    "mail_servers = [\n",
    "    'gmail', 'outlook', 'icloud', 'yahoo', 'hotmail', 'aim', 'medium',\n",
    "    'titan', 'protonmail', 'pm', 'zoho', 'yandex', 'gmx','hubspot',\n",
    "    'mail', 'tutanota', 'geeksforgeeks', 'medium', '']\n",
    "\n",
    "max_tld_score, max_server_score, correct_tld, correct_server = 0, 0, '', '' # Initialized score for TLDs and declared variable for likely correct TLD.\n",
    "\n",
    "wrong_mail = input(\"Enter email address: \")\n",
    "for tld in tlds:\n",
    "    tld_score = SequenceMatcher(a=wrong_mail.split('.')[-1], b=tld).quick_ratio() # Checking scores for input TLDs and list of correct TLDs\n",
    "    if tld_score > max_tld_score:\n",
    "        max_tld_score, correct_tld = tld_score, tld # Updating scores and correct TLD\n",
    "\n",
    "for mail_server in mail_servers:\n",
    "    server_score = SequenceMatcher(a=wrong_mail.split('@')[1], b=mail_server).quick_ratio() # Checking scores for input server and list of correct servers\n",
    "    if server_score > max_server_score:\n",
    "        max_server_score, correct_server = server_score, mail_server\n",
    "\n",
    "\n",
    "correct_mail = wrong_mail.replace(wrong_mail.split('@')[1], correct_server)+\".\"+correct_tld\n",
    "# correct_mail = mail.replace(mail.split('.')[-1], correct_tld)\n",
    "print('The correct email should be:', correct_mail)"
   ]
  },
  {
   "cell_type": "code",
   "execution_count": 45,
   "metadata": {},
   "outputs": [
    {
     "name": "stdout",
     "output_type": "stream",
     "text": [
      "!\"#$%&'()*+,-/:;<=>?[\\]^_`{|}~\n"
     ]
    }
   ],
   "source": [
    "import string\n",
    "\n",
    "# wrong_mail = input(\"Enter wrong mail: \")\n",
    "punctuations = string.punctuation.replace(\".\", \"\").replace('@', '')\n",
    "\n",
    "# for punctuation in punctuations:\n",
    "#             # print(punctuation)\n",
    "#             right_mail = wrong_mail.split(\"@\")[1]\n",
    "#             if punctuation in right_mail.split():\n",
    "#                     print(right_mail.split())\n",
    "#                     right_mail.replace(punctuation, \".\")\n",
    "#             # right_mail = right_mail.replace(punctuation, '.')\n",
    "# print(right_mail)\n",
    "# print(wrong_mail.split(\"@\")[1].replace(punctuation, '.'))\n",
    "print(punctuations)"
   ]
  },
  {
   "cell_type": "code",
   "execution_count": 136,
   "metadata": {},
   "outputs": [
    {
     "name": "stdout",
     "output_type": "stream",
     "text": [
      "otlooks..#.!ng&co...\n"
     ]
    }
   ],
   "source": [
    "# THIS WORKS RIGHT.\n",
    "\n",
    "wemail_1 = 'spinalchord@outlook#ng&co.'\n",
    "wemail = 'spina#l.chord@otlooks..#.!ng&co...'\n",
    "new_mail_list = []\n",
    "wemail_post_at = wemail.split('@')[1]\n",
    "print(wemail_post_at)\n",
    "for punctuation in punctuations:\n",
    "    if punctuation in wemail_post_at:\n",
    "        wemail_post_at = wemail_post_at.replace(punctuation, \".\").strip('.')\n",
    "for mail_part in wemail_post_at.split('.'):\n",
    "    if mail_part != '':\n",
    "        new_mail_list.append(mail_part)\n",
    "mail = \"@\"+\".\".join(new_mail_list)\n",
    "correct_email = wemail.split('@')[0]+mail\n",
    "\n",
    "# print(wemail_post_at)\n",
    "# print(mail)"
   ]
  },
  {
   "cell_type": "code",
   "execution_count": 90,
   "metadata": {},
   "outputs": [
    {
     "name": "stdout",
     "output_type": "stream",
     "text": [
      "spinalchord@outlook..ng.co\n"
     ]
    }
   ],
   "source": [
    "wemail = 'spinalchord@outlook...!ng&co.'\n",
    "new_mail_list = [] \n",
    "# print(wemail.split('.'))\n",
    "for mail_part in wemail.split('.'):\n",
    "    if mail_part != '':\n",
    "        new_mail_list.append(mail_part)\n",
    "mail = \".\".join(new_mail_list)\n",
    "\n",
    "for punctuation in punctuations:\n",
    "    if punctuation in mail:\n",
    "        mail = mail.replace(punctuation, \".\").strip('.')\n",
    "correct_email = mail\n",
    "# mail = \".\".join(wemail.split('.'))\n",
    "print(correct_email)\n",
    "# print(new_mail_list)"
   ]
  },
  {
   "cell_type": "code",
   "execution_count": 15,
   "metadata": {},
   "outputs": [
    {
     "name": "stdout",
     "output_type": "stream",
     "text": [
      "['totalenergies', 'com']\n"
     ]
    }
   ],
   "source": [
    "special_mail = 'charles.ebereonwu@totalenergies.com'\n",
    "\n",
    "first_split = special_mail.split('@')\n",
    "second_split = first_split[-1].split('.')\n",
    "print(second_split)"
   ]
  },
  {
   "cell_type": "code",
   "execution_count": 21,
   "metadata": {},
   "outputs": [
    {
     "name": "stdout",
     "output_type": "stream",
     "text": [
      "Hey Kinfe, - 2nd test. NO BLOCK ABEG\n",
      "    \n",
      "\n",
      "I trust this email finds you well. As you are aware, the payroll window is here, and we are thrilled that you get to use our latest version - Bento V3. We are confident that Bento V3 represents our best work yet and we are excited for you to experience its awesomeness.\n",
      "    \n",
      "\n",
      "As with all major deployments, there are bound to be some hitches - and there will always be risk of data corruption during a migration but we are working to fix any issues and are confident that the product is stable and will perform optimally during this payroll window.\n",
      "    \n",
      "\n",
      "We moved from a 3 bedroom duplex into a waterfront mansion. A few things like our bar stools have not been delivered and we don’t know the best restaurants in the new neighborhood just yet. But we are so proud of this build and are confident that you will love it.\n",
      "    \n",
      "\n",
      "Dig in and experience it. We’ll love to hear your thoughts. And we do ask for some patience. This was a big build - a few things were removed, some added. Happy to discuss our reasoning.\n",
      "    \n",
      "\n",
      "The best products of course are an ongoing conversation between the users and builders.\n",
      "    \n",
      "\n",
      "Best regards,\n",
      "    \n",
      "Einstein from AutoBatch Team.\n",
      "    \n",
      "Hey Abraham, - 2nd test. NO BLOCK ABEG\n",
      "    \n",
      "\n",
      "I trust this email finds you well. As you are aware, the payroll window is here, and we are thrilled that you get to use our latest version - Bento V3. We are confident that Bento V3 represents our best work yet and we are excited for you to experience its awesomeness.\n",
      "    \n",
      "\n",
      "As with all major deployments, there are bound to be some hitches - and there will always be risk of data corruption during a migration but we are working to fix any issues and are confident that the product is stable and will perform optimally during this payroll window.\n",
      "    \n",
      "\n",
      "We moved from a 3 bedroom duplex into a waterfront mansion. A few things like our bar stools have not been delivered and we don’t know the best restaurants in the new neighborhood just yet. But we are so proud of this build and are confident that you will love it.\n",
      "    \n",
      "\n",
      "Dig in and experience it. We’ll love to hear your thoughts. And we do ask for some patience. This was a big build - a few things were removed, some added. Happy to discuss our reasoning.\n",
      "    \n",
      "\n",
      "The best products of course are an ongoing conversation between the users and builders.\n",
      "    \n",
      "\n",
      "Best regards,\n",
      "    \n",
      "Einstein from AutoBatch Team.\n",
      "    \n",
      "Hey Mosope, - 2nd test. NO BLOCK ABEG\n",
      "    \n",
      "\n",
      "I trust this email finds you well. As you are aware, the payroll window is here, and we are thrilled that you get to use our latest version - Bento V3. We are confident that Bento V3 represents our best work yet and we are excited for you to experience its awesomeness.\n",
      "    \n",
      "\n",
      "As with all major deployments, there are bound to be some hitches - and there will always be risk of data corruption during a migration but we are working to fix any issues and are confident that the product is stable and will perform optimally during this payroll window.\n",
      "    \n",
      "\n",
      "We moved from a 3 bedroom duplex into a waterfront mansion. A few things like our bar stools have not been delivered and we don’t know the best restaurants in the new neighborhood just yet. But we are so proud of this build and are confident that you will love it.\n",
      "    \n",
      "\n",
      "Dig in and experience it. We’ll love to hear your thoughts. And we do ask for some patience. This was a big build - a few things were removed, some added. Happy to discuss our reasoning.\n",
      "    \n",
      "\n",
      "The best products of course are an ongoing conversation between the users and builders.\n",
      "    \n",
      "\n",
      "Best regards,\n",
      "    \n",
      "Einstein from AutoBatch Team.\n",
      "    \n",
      "Hey einstein, - 2nd test. NO BLOCK ABEG\n",
      "    \n",
      "\n",
      "I trust this email finds you well. As you are aware, the payroll window is here, and we are thrilled that you get to use our latest version - Bento V3. We are confident that Bento V3 represents our best work yet and we are excited for you to experience its awesomeness.\n",
      "    \n",
      "\n",
      "As with all major deployments, there are bound to be some hitches - and there will always be risk of data corruption during a migration but we are working to fix any issues and are confident that the product is stable and will perform optimally during this payroll window.\n",
      "    \n",
      "\n",
      "We moved from a 3 bedroom duplex into a waterfront mansion. A few things like our bar stools have not been delivered and we don’t know the best restaurants in the new neighborhood just yet. But we are so proud of this build and are confident that you will love it.\n",
      "    \n",
      "\n",
      "Dig in and experience it. We’ll love to hear your thoughts. And we do ask for some patience. This was a big build - a few things were removed, some added. Happy to discuss our reasoning.\n",
      "    \n",
      "\n",
      "The best products of course are an ongoing conversation between the users and builders.\n",
      "    \n",
      "\n",
      "Best regards,\n",
      "    \n",
      "Einstein from AutoBatch Team.\n",
      "    \n",
      "Hey ein, - 2nd test. NO BLOCK ABEG\n",
      "    \n",
      "\n",
      "I trust this email finds you well. As you are aware, the payroll window is here, and we are thrilled that you get to use our latest version - Bento V3. We are confident that Bento V3 represents our best work yet and we are excited for you to experience its awesomeness.\n",
      "    \n",
      "\n",
      "As with all major deployments, there are bound to be some hitches - and there will always be risk of data corruption during a migration but we are working to fix any issues and are confident that the product is stable and will perform optimally during this payroll window.\n",
      "    \n",
      "\n",
      "We moved from a 3 bedroom duplex into a waterfront mansion. A few things like our bar stools have not been delivered and we don’t know the best restaurants in the new neighborhood just yet. But we are so proud of this build and are confident that you will love it.\n",
      "    \n",
      "\n",
      "Dig in and experience it. We’ll love to hear your thoughts. And we do ask for some patience. This was a big build - a few things were removed, some added. Happy to discuss our reasoning.\n",
      "    \n",
      "\n",
      "The best products of course are an ongoing conversation between the users and builders.\n",
      "    \n",
      "\n",
      "Best regards,\n",
      "    \n",
      "Einstein from AutoBatch Team.\n",
      "    \n",
      "Hey dat, - 2nd test. NO BLOCK ABEG\n",
      "    \n",
      "\n",
      "I trust this email finds you well. As you are aware, the payroll window is here, and we are thrilled that you get to use our latest version - Bento V3. We are confident that Bento V3 represents our best work yet and we are excited for you to experience its awesomeness.\n",
      "    \n",
      "\n",
      "As with all major deployments, there are bound to be some hitches - and there will always be risk of data corruption during a migration but we are working to fix any issues and are confident that the product is stable and will perform optimally during this payroll window.\n",
      "    \n",
      "\n",
      "We moved from a 3 bedroom duplex into a waterfront mansion. A few things like our bar stools have not been delivered and we don’t know the best restaurants in the new neighborhood just yet. But we are so proud of this build and are confident that you will love it.\n",
      "    \n",
      "\n",
      "Dig in and experience it. We’ll love to hear your thoughts. And we do ask for some patience. This was a big build - a few things were removed, some added. Happy to discuss our reasoning.\n",
      "    \n",
      "\n",
      "The best products of course are an ongoing conversation between the users and builders.\n",
      "    \n",
      "\n",
      "Best regards,\n",
      "    \n",
      "Einstein from AutoBatch Team.\n",
      "    \n"
     ]
    }
   ],
   "source": [
    "# HOW TO CUSTOMIZE EVERY EMAIL TO HAVE A DIFFERENT NAME.\n",
    "\n",
    "\n",
    "fnames = [\"Kinfe\", \"Abraham\", \"Mosope\", \"einstein\", \"ein\", \"dat\"]\n",
    "\n",
    "for fname in fnames:\n",
    "    content = f\"\"\"Hey _fname_, - 2nd test. NO BLOCK ABEG\n",
    "    \\n\\nI trust this email finds you well. As you are aware, the payroll window is here, and we are thrilled that you get to use our latest version - Bento V3. We are confident that Bento V3 represents our best work yet and we are excited for you to experience its awesomeness.\n",
    "    \\n\\nAs with all major deployments, there are bound to be some hitches - and there will always be risk of data corruption during a migration but we are working to fix any issues and are confident that the product is stable and will perform optimally during this payroll window.\n",
    "    \\n\\nWe moved from a 3 bedroom duplex into a waterfront mansion. A few things like our bar stools have not been delivered and we don’t know the best restaurants in the new neighborhood just yet. But we are so proud of this build and are confident that you will love it.\n",
    "    \\n\\nDig in and experience it. We’ll love to hear your thoughts. And we do ask for some patience. This was a big build - a few things were removed, some added. Happy to discuss our reasoning.\n",
    "    \\n\\nThe best products of course are an ongoing conversation between the users and builders.\n",
    "    \\n\\nBest regards,\n",
    "    \\nEinstein from AutoBatch Team.\n",
    "    \"\"\"\n",
    "    print(content.replace(\"_fname_\", fname))"
   ]
  },
  {
   "attachments": {},
   "cell_type": "markdown",
   "metadata": {},
   "source": [
    "# Potential Templates\n",
    "\n",
    "Get Templates from: https://www.creative-tim.com/blog/web-design/free-dashboard-templates/\n",
    "\n",
    "> *Download link* : **Live demo link**\n",
    "\n",
    "- https://www.creative-tim.com/product/argon-dashboard-flask : https://www.creative-tim.com/live/argon-dashboard-flask\n",
    "- "
   ]
  }
 ],
 "metadata": {
  "kernelspec": {
   "display_name": "Python 3",
   "language": "python",
   "name": "python3"
  },
  "language_info": {
   "codemirror_mode": {
    "name": "ipython",
    "version": 3
   },
   "file_extension": ".py",
   "mimetype": "text/x-python",
   "name": "python",
   "nbconvert_exporter": "python",
   "pygments_lexer": "ipython3",
   "version": "3.10.3"
  },
  "orig_nbformat": 4
 },
 "nbformat": 4,
 "nbformat_minor": 2
}
